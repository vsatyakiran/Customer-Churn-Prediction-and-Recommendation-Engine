{
 "cells": [
  {
   "cell_type": "markdown",
   "metadata": {},
   "source": [
    "## Recommendation Engine with Collaborative Filtering"
   ]
  },
  {
   "cell_type": "markdown",
   "metadata": {},
   "source": [
    "### Introduction\n",
    "\n",
    "In this Recommendation Engine with collabarative filtering, I used cosine Similarity to find the similarity between the users.\n",
    "\n",
    "This Reommendation Engine suggest services to users, and evaluate retention strategies.\n",
    "\n",
    "`Class: RecommendationEngine`\n",
    "\n",
    "This class encapsulates all logic for preprocessing data, building user profiles, recommending services, and analyzing retention.\n",
    "\n",
    "**Attributes:**\n",
    "\n",
    "- `user_profiles:` A DataFrame representing user characteristics and service usage.\n",
    "- `similarity_matrix:` A matrix storing cosine similarity scores between users.\n",
    "- `scaler:` An instance of StandardScaler for feature normalization.\n",
    "- `features_encoded:` Encoded and preprocessed features excluding non-relevant columns.\n",
    "- `service_columns:` List of columns representing service usage."
   ]
  },
  {
   "cell_type": "markdown",
   "metadata": {},
   "source": [
    "#### Methods:\n",
    "`preprocess_data :` Prepares the dataset for analysis. Returns the preprocessed DataFrame.\n",
    "\n",
    "`build_user_profiles :` Creates a similarity matrix based on user profiles.\n",
    "\n",
    "`recommend_services :` Recommends services to users based on similarity scores.\n",
    "\n",
    "`get_user_profile :` Finds users most similar to a given user. Returns the indices of similar users.\n",
    "\n",
    "`analyze_retention_impact :` Analyzes the effect of service usage on customer retention."
   ]
  },
  {
   "cell_type": "markdown",
   "metadata": {},
   "source": [
    "## Overall Flow\n",
    "1. Input raw data and preprocess it.\n",
    "\n",
    "2. Build user profiles based on preprocessed features.\n",
    "\n",
    "3. Identify similar users for personalized recommendations.\n",
    "\n",
    "4. Recommend services by analyzing usage gaps.\n",
    "\n",
    "5. Assess retention strategies to improve customer experience."
   ]
  },
  {
   "cell_type": "code",
   "execution_count": 1,
   "metadata": {},
   "outputs": [],
   "source": [
    "import pandas as pd\n",
    "import numpy as np\n",
    "from sklearn.preprocessing import StandardScaler\n",
    "from sklearn.metrics.pairwise import cosine_similarity"
   ]
  },
  {
   "cell_type": "code",
   "execution_count": 2,
   "metadata": {},
   "outputs": [],
   "source": [
    "# Load the data\n",
    "df = pd.read_csv('DataSet.csv')"
   ]
  },
  {
   "cell_type": "code",
   "execution_count": 3,
   "metadata": {},
   "outputs": [],
   "source": [
    "# Class for the recommendation engine\n",
    "class RecommendationEngine:\n",
    "    def __init__(self):\n",
    "        self.user_profiles = None\n",
    "        self.similarity_matrix = None\n",
    "        self.scaler = StandardScaler()\n",
    "        self.features_encoded = None\n",
    "        self.service_columns = None\n",
    "        \n",
    "    def preprocess_data(self, df):\n",
    "        \"\"\"\n",
    "        Preprocess the data by encoding categorical variables and scaling numerical features\n",
    "        \"\"\"\n",
    "        # Create copy to avoid modifying original data\n",
    "        processed_df = df.copy()\n",
    "        \n",
    "        # Encode categorical variables\n",
    "        processed_df['Gender'] = pd.get_dummies(processed_df['Gender'], prefix='Gender')['Gender_Male']\n",
    "        processed_df = pd.get_dummies(processed_df, columns=['PaymentMethod'])\n",
    "        \n",
    "        processed_df['Churn'] = processed_df['Churn'].map({'Yes': 1, 'No': 0})\n",
    "        # Scale numerical features\n",
    "        numerical_features = ['Age', 'Tenure', 'MonthlyCharges', 'TotalCharges']\n",
    "        processed_df[numerical_features] = self.scaler.fit_transform(processed_df[numerical_features])\n",
    "        \n",
    "        # Store service usage columns\n",
    "        self.service_columns = [col for col in processed_df.columns if 'ServiceUsage' in col]\n",
    "        \n",
    "        # Store processed features\n",
    "        self.features_encoded = processed_df.drop(['CustomerID', 'Churn'], axis=1)\n",
    "        \n",
    "        return processed_df\n",
    "    \n",
    "    def build_user_profiles(self, processed_df):\n",
    "        \"\"\"\n",
    "        Build user profiles based on their characteristics and service usage\n",
    "        Cosine similarity is used to find similar users\n",
    "        \"\"\"\n",
    "        self.user_profiles = processed_df.drop(['CustomerID', 'Churn'], axis=1)\n",
    "        self.similarity_matrix = cosine_similarity(self.user_profiles)\n",
    "        \n",
    "        \n",
    "    def get_similar_users(self, user_id, n_similar=5):\n",
    "        \"\"\"\n",
    "        Find similar users based on cosine similarity\n",
    "        \"\"\"\n",
    "        user_idx = self.user_profiles.index.get_loc(user_id)\n",
    "        \n",
    "        user_similarities = self.similarity_matrix[user_idx]\n",
    "        similar_user_indices = np.argsort(user_similarities)[-n_similar-1:-1][::-1]\n",
    "        \n",
    "        return self.user_profiles.index[similar_user_indices]\n",
    "    \n",
    "    def recommend_services(self, user_id, n_recommendations=3):\n",
    "        \"\"\"\n",
    "        Recommend services based on similar users' usage patterns\n",
    "        \"\"\"\n",
    "        similar_users = self.get_similar_users(user_id)\n",
    "        user_services = self.user_profiles.loc[user_id][self.service_columns]\n",
    "        \n",
    "        # Get average service usage of similar users\n",
    "        similar_users_services = self.user_profiles.loc[similar_users][self.service_columns]\n",
    "        avg_similar_usage = similar_users_services.mean()\n",
    "        \n",
    "        # Find services that similar users use more than the current user\n",
    "        service_potential = avg_similar_usage - user_services\n",
    "        recommended_services = service_potential.sort_values(ascending=False)\n",
    "        \n",
    "        return recommended_services.head(n_recommendations)\n",
    "    \n",
    "    def analyze_retention_impact(self, df):\n",
    "        \"\"\"\n",
    "        Analyze how service combinations affect customer retention\n",
    "        \"\"\"\n",
    "        retention_analysis = {}\n",
    "        \n",
    "        # Calculate churn rate for different service usage combinations\n",
    "        for service in self.service_columns:\n",
    "            users_with_service = df[df[service] > df[service].median()]\n",
    "            users_without_service = df[df[service] <= df[service].median()]\n",
    "            \n",
    "            churn_rate_with = users_with_service['Churn'].mean()\n",
    "            churn_rate_without = users_without_service['Churn'].mean()\n",
    "            \n",
    "            retention_analysis[service] = {\n",
    "                'churn_rate_with_service(%)': round(churn_rate_with*100, 2),\n",
    "                'churn_rate_without_service(%)': round(churn_rate_without*100, 2),\n",
    "                'retention_impact(%)': round((churn_rate_without - churn_rate_with ) * 100, 2)\n",
    "            }\n",
    "            \n",
    "        return pd.DataFrame(retention_analysis).T\n",
    "\n"
   ]
  },
  {
   "cell_type": "code",
   "execution_count": 114,
   "metadata": {},
   "outputs": [],
   "source": [
    "# Initialize and train the recommendation engine\n",
    "engine = RecommendationEngine()\n",
    "processed_df = engine.preprocess_data(df)\n",
    "engine.build_user_profiles(processed_df)"
   ]
  },
  {
   "cell_type": "code",
   "execution_count": 115,
   "metadata": {},
   "outputs": [
    {
     "name": "stdout",
     "output_type": "stream",
     "text": [
      "Recommended services for user 5:\n"
     ]
    }
   ],
   "source": [
    "# Take sample id from 0 to 199 for recommendation\n",
    "sample_user_id = input(\"Enter the user id between 0-199: \")\n",
    "print(f\"Recommended services for user {sample_user_id}:\")"
   ]
  },
  {
   "cell_type": "code",
   "execution_count": 116,
   "metadata": {},
   "outputs": [],
   "source": [
    "# Get recommendations for sample user\n",
    "recommendations = engine.recommend_services(sample_user_id)\n",
    "\n",
    "# Analyze retention impact\n",
    "retention_analysis = engine.analyze_retention_impact(processed_df)"
   ]
  },
  {
   "cell_type": "code",
   "execution_count": 117,
   "metadata": {},
   "outputs": [
    {
     "name": "stdout",
     "output_type": "stream",
     "text": [
      "Current Churn Status:  No\n",
      "Similar Users are using ServiceUsage1: 14.4 more than the current user\n",
      "Similar Users are using ServiceUsage3: 12.0 more than the current user\n",
      "Similar Users are using ServiceUsage2: 4.2 more than the current user\n"
     ]
    }
   ],
   "source": [
    "print(\"Current Churn Status: \", df.loc[sample_user_id, 'Churn'])\n",
    "for col in recommendations.index:\n",
    "    if recommendations[col] > 0:\n",
    "        print(f\"Similar Users are using {col}: {round(recommendations[col], 2)} more than the current user\")\n",
    "    else:\n",
    "        print(f\"Similar Users are using {col}: {round(recommendations[col], 2)} less than the current user\")"
   ]
  },
  {
   "cell_type": "markdown",
   "metadata": {},
   "source": [
    "__Result:__\n",
    "- Recommend the right service to the user based on the similar users' preferences.\n",
    "- Don't recommend the services that similar users are not interested in.\n",
    "- `Note:` Also check if the users are currently active or already churned."
   ]
  },
  {
   "cell_type": "code",
   "execution_count": 126,
   "metadata": {},
   "outputs": [
    {
     "data": {
      "text/html": [
       "<div>\n",
       "<style scoped>\n",
       "    .dataframe tbody tr th:only-of-type {\n",
       "        vertical-align: middle;\n",
       "    }\n",
       "\n",
       "    .dataframe tbody tr th {\n",
       "        vertical-align: top;\n",
       "    }\n",
       "\n",
       "    .dataframe thead th {\n",
       "        text-align: right;\n",
       "    }\n",
       "</style>\n",
       "<table border=\"1\" class=\"dataframe\">\n",
       "  <thead>\n",
       "    <tr style=\"text-align: right;\">\n",
       "      <th></th>\n",
       "      <th>churn_rate_with_service(%)</th>\n",
       "      <th>churn_rate_without_service(%)</th>\n",
       "      <th>retention_impact(%)</th>\n",
       "    </tr>\n",
       "  </thead>\n",
       "  <tbody>\n",
       "    <tr>\n",
       "      <th>ServiceUsage1</th>\n",
       "      <td>19.00</td>\n",
       "      <td>23.0</td>\n",
       "      <td>4.00</td>\n",
       "    </tr>\n",
       "    <tr>\n",
       "      <th>ServiceUsage2</th>\n",
       "      <td>22.22</td>\n",
       "      <td>19.8</td>\n",
       "      <td>-2.42</td>\n",
       "    </tr>\n",
       "    <tr>\n",
       "      <th>ServiceUsage3</th>\n",
       "      <td>24.00</td>\n",
       "      <td>18.0</td>\n",
       "      <td>-6.00</td>\n",
       "    </tr>\n",
       "  </tbody>\n",
       "</table>\n",
       "</div>"
      ],
      "text/plain": [
       "               churn_rate_with_service(%)  churn_rate_without_service(%)  \\\n",
       "ServiceUsage1                       19.00                           23.0   \n",
       "ServiceUsage2                       22.22                           19.8   \n",
       "ServiceUsage3                       24.00                           18.0   \n",
       "\n",
       "               retention_impact(%)  \n",
       "ServiceUsage1                 4.00  \n",
       "ServiceUsage2                -2.42  \n",
       "ServiceUsage3                -6.00  "
      ]
     },
     "execution_count": 126,
     "metadata": {},
     "output_type": "execute_result"
    }
   ],
   "source": [
    "retention_analysis"
   ]
  },
  {
   "cell_type": "markdown",
   "metadata": {},
   "source": [
    "__Conclusion__:\n",
    "- ServiceUsage1 has the highest retention impact, with a **4% higher churn rate** for users without the service.\n",
    "\n",
    "- ServiceUsage2 has a **2.5% higher churn rate** for users with the service.\n",
    "\n",
    "- ServiceUsage3 has a **6% higher churn rate** for users with the service.\n",
    "\n",
    "`Recommendation:`\n",
    "- Avoid the cold start problem by recommending the most popular services to the new users.\n",
    "\n",
    "- By the given data, we can recommend `ServiceUsage1` to the new users.\n",
    "\n",
    "- Focus on `ServiceUsage3` to improve the retention rate.\n",
    "\n",
    "### The system can help improve customer retention by:\n",
    "\n",
    "1. Identifying underutilized services that similar customers find valuable.\n",
    "\n",
    "2. Suggesting personalized service combinations that correlate with higher retention.\n",
    "\n",
    "3. Enabling proactive recommendations before customers show churn signals.\n"
   ]
  },
  {
   "cell_type": "code",
   "execution_count": 127,
   "metadata": {},
   "outputs": [
    {
     "data": {
      "image/png": "[encoded data removed]",
      "text/plain": [
       "<Figure size 400x300 with 1 Axes>"
      ]
     },
     "metadata": {},
     "output_type": "display_data"
    }
   ],
   "source": [
    "import matplotlib.pyplot as plt\n",
    "import seaborn as sns\n",
    "\n",
    "# Recommended services\n",
    "plt.figure(figsize=(4, 3))\n",
    "sns.barplot(x=recommendations.values, y=recommendations.index, palette='viridis')\n",
    "plt.title('Recommended Services')\n",
    "plt.xlabel('Service Potential')\n",
    "plt.ylabel('Service')\n",
    "plt.show()"
   ]
  },
  {
   "cell_type": "code",
   "execution_count": 122,
   "metadata": {},
   "outputs": [
    {
     "data": {
      "image/png": "[encoded data removed]",
      "text/plain": [
       "<Figure size 400x300 with 1 Axes>"
      ]
     },
     "metadata": {},
     "output_type": "display_data"
    }
   ],
   "source": [
    "# Plot retention impact\n",
    "plt.figure(figsize=(4, 3))\n",
    "sns.barplot(x='retention_impact(%)', y=retention_analysis.index, data=retention_analysis)\n",
    "plt.title('Retention Impact of Service Usage')\n",
    "plt.xlabel('Retention Impact')\n",
    "plt.ylabel('Service Usage')\n",
    "plt.show()\n"
   ]
  }
 ],
 "metadata": {
  "kernelspec": {
   "display_name": "venv",
   "language": "python",
   "name": "venv"
  },
  "language_info": {
   "codemirror_mode": {
    "name": "ipython",
    "version": 3
   },
   "file_extension": ".py",
   "mimetype": "text/x-python",
   "name": "python",
   "nbconvert_exporter": "python",
   "pygments_lexer": "ipython3",
   "version": "3.11.5"
  }
 },
 "nbformat": 4,
 "nbformat_minor": 2
}
